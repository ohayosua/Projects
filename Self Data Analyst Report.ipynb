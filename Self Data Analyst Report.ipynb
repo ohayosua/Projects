{
 "cells": [
  {
   "cell_type": "markdown",
   "id": "23128f91",
   "metadata": {},
   "source": [
    "# Students Performance in Exams Report Analysis"
   ]
  },
  {
   "cell_type": "markdown",
   "id": "7150dd02",
   "metadata": {},
   "source": [
    "How students perform academically usually reflects not just themselves individually but the resources provided for them. Given that everyone is unique in their own personal interest, economical background, and social abilities results to the outcome of a variety of different test scores across different subjects. The data we will be exploring today consist of 1,000 students and their exam scores in the three subjects: math, reading, and writing. Many of the 1,000 students come from different genders, race, and parental educational background. The focus of this report will be to come up with possible questions and/or ideas associated with the student's exam scores, possibly answering questions that was inquired early on.\n",
    "\n",
    "This report will analyze and possibly answer these following questions:\n",
    "\n",
    "- Does a parent's education reflect upon their child's academics?\n",
    "- Can economic background tell us anything ?\n",
    "- How can we go about improving one's exam scores based on the data given?\n"
   ]
  },
  {
   "cell_type": "markdown",
   "id": "cc5b6c46",
   "metadata": {},
   "source": [
    "### Reading Data with Python"
   ]
  },
  {
   "cell_type": "code",
   "execution_count": 1,
   "id": "53c38f6d",
   "metadata": {},
   "outputs": [],
   "source": [
    "import pandas as pd\n",
    "import numpy as np\n",
    "import matplotlib.pyplot as plt\n",
    "\n",
    "%matplotlib inline"
   ]
  },
  {
   "cell_type": "code",
   "execution_count": 2,
   "id": "ff6384bd",
   "metadata": {},
   "outputs": [
    {
     "data": {
      "text/html": [
       "<div>\n",
       "<style scoped>\n",
       "    .dataframe tbody tr th:only-of-type {\n",
       "        vertical-align: middle;\n",
       "    }\n",
       "\n",
       "    .dataframe tbody tr th {\n",
       "        vertical-align: top;\n",
       "    }\n",
       "\n",
       "    .dataframe thead th {\n",
       "        text-align: right;\n",
       "    }\n",
       "</style>\n",
       "<table border=\"1\" class=\"dataframe\">\n",
       "  <thead>\n",
       "    <tr style=\"text-align: right;\">\n",
       "      <th></th>\n",
       "      <th>gender</th>\n",
       "      <th>race/ethnicity</th>\n",
       "      <th>parental level of education</th>\n",
       "      <th>lunch</th>\n",
       "      <th>test preparation course</th>\n",
       "      <th>math score</th>\n",
       "      <th>reading score</th>\n",
       "      <th>writing score</th>\n",
       "    </tr>\n",
       "  </thead>\n",
       "  <tbody>\n",
       "    <tr>\n",
       "      <th>0</th>\n",
       "      <td>female</td>\n",
       "      <td>group B</td>\n",
       "      <td>bachelor's degree</td>\n",
       "      <td>standard</td>\n",
       "      <td>none</td>\n",
       "      <td>72</td>\n",
       "      <td>72</td>\n",
       "      <td>74</td>\n",
       "    </tr>\n",
       "    <tr>\n",
       "      <th>1</th>\n",
       "      <td>female</td>\n",
       "      <td>group C</td>\n",
       "      <td>some college</td>\n",
       "      <td>standard</td>\n",
       "      <td>completed</td>\n",
       "      <td>69</td>\n",
       "      <td>90</td>\n",
       "      <td>88</td>\n",
       "    </tr>\n",
       "    <tr>\n",
       "      <th>2</th>\n",
       "      <td>female</td>\n",
       "      <td>group B</td>\n",
       "      <td>master's degree</td>\n",
       "      <td>standard</td>\n",
       "      <td>none</td>\n",
       "      <td>90</td>\n",
       "      <td>95</td>\n",
       "      <td>93</td>\n",
       "    </tr>\n",
       "    <tr>\n",
       "      <th>3</th>\n",
       "      <td>male</td>\n",
       "      <td>group A</td>\n",
       "      <td>associate's degree</td>\n",
       "      <td>free/reduced</td>\n",
       "      <td>none</td>\n",
       "      <td>47</td>\n",
       "      <td>57</td>\n",
       "      <td>44</td>\n",
       "    </tr>\n",
       "    <tr>\n",
       "      <th>4</th>\n",
       "      <td>male</td>\n",
       "      <td>group C</td>\n",
       "      <td>some college</td>\n",
       "      <td>standard</td>\n",
       "      <td>none</td>\n",
       "      <td>76</td>\n",
       "      <td>78</td>\n",
       "      <td>75</td>\n",
       "    </tr>\n",
       "  </tbody>\n",
       "</table>\n",
       "</div>"
      ],
      "text/plain": [
       "   gender race/ethnicity parental level of education         lunch  \\\n",
       "0  female        group B           bachelor's degree      standard   \n",
       "1  female        group C                some college      standard   \n",
       "2  female        group B             master's degree      standard   \n",
       "3    male        group A          associate's degree  free/reduced   \n",
       "4    male        group C                some college      standard   \n",
       "\n",
       "  test preparation course  math score  reading score  writing score  \n",
       "0                    none          72             72             74  \n",
       "1               completed          69             90             88  \n",
       "2                    none          90             95             93  \n",
       "3                    none          47             57             44  \n",
       "4                    none          76             78             75  "
      ]
     },
     "execution_count": 2,
     "metadata": {},
     "output_type": "execute_result"
    }
   ],
   "source": [
    "students_data = pd.read_csv('C:/Users/Yosua/Downloads/StudentsPerformance.csv')\n",
    "students_data.head()"
   ]
  },
  {
   "cell_type": "code",
   "execution_count": 3,
   "id": "9af236f0",
   "metadata": {},
   "outputs": [
    {
     "data": {
      "text/plain": [
       "(1000, 8)"
      ]
     },
     "execution_count": 3,
     "metadata": {},
     "output_type": "execute_result"
    }
   ],
   "source": [
    "students_data.shape # 100 rows"
   ]
  },
  {
   "cell_type": "code",
   "execution_count": 4,
   "id": "7e06e21f",
   "metadata": {},
   "outputs": [
    {
     "name": "stdout",
     "output_type": "stream",
     "text": [
      "<class 'pandas.core.frame.DataFrame'>\n",
      "RangeIndex: 1000 entries, 0 to 999\n",
      "Data columns (total 8 columns):\n",
      " #   Column                       Non-Null Count  Dtype \n",
      "---  ------                       --------------  ----- \n",
      " 0   gender                       1000 non-null   object\n",
      " 1   race/ethnicity               1000 non-null   object\n",
      " 2   parental level of education  1000 non-null   object\n",
      " 3   lunch                        1000 non-null   object\n",
      " 4   test preparation course      1000 non-null   object\n",
      " 5   math score                   1000 non-null   int64 \n",
      " 6   reading score                1000 non-null   int64 \n",
      " 7   writing score                1000 non-null   int64 \n",
      "dtypes: int64(3), object(5)\n",
      "memory usage: 62.6+ KB\n"
     ]
    }
   ],
   "source": [
    "students_data.info() # no null values!"
   ]
  },
  {
   "cell_type": "markdown",
   "id": "6ef5c22f",
   "metadata": {},
   "source": [
    "We will add another column called total score which is the combined score of all three subjects as it will be one of the main focuses for this report."
   ]
  },
  {
   "cell_type": "code",
   "execution_count": 5,
   "id": "805fb881",
   "metadata": {},
   "outputs": [],
   "source": [
    "students_data['total score'] = students_data['math score'] + students_data['reading score'] + students_data['writing score']"
   ]
  },
  {
   "cell_type": "code",
   "execution_count": 6,
   "id": "f2fc7b00",
   "metadata": {
    "scrolled": false
   },
   "outputs": [
    {
     "data": {
      "text/html": [
       "<div>\n",
       "<style scoped>\n",
       "    .dataframe tbody tr th:only-of-type {\n",
       "        vertical-align: middle;\n",
       "    }\n",
       "\n",
       "    .dataframe tbody tr th {\n",
       "        vertical-align: top;\n",
       "    }\n",
       "\n",
       "    .dataframe thead th {\n",
       "        text-align: right;\n",
       "    }\n",
       "</style>\n",
       "<table border=\"1\" class=\"dataframe\">\n",
       "  <thead>\n",
       "    <tr style=\"text-align: right;\">\n",
       "      <th></th>\n",
       "      <th>gender</th>\n",
       "      <th>race/ethnicity</th>\n",
       "      <th>parental level of education</th>\n",
       "      <th>lunch</th>\n",
       "      <th>test preparation course</th>\n",
       "      <th>math score</th>\n",
       "      <th>reading score</th>\n",
       "      <th>writing score</th>\n",
       "      <th>total score</th>\n",
       "    </tr>\n",
       "  </thead>\n",
       "  <tbody>\n",
       "    <tr>\n",
       "      <th>0</th>\n",
       "      <td>female</td>\n",
       "      <td>group B</td>\n",
       "      <td>bachelor's degree</td>\n",
       "      <td>standard</td>\n",
       "      <td>none</td>\n",
       "      <td>72</td>\n",
       "      <td>72</td>\n",
       "      <td>74</td>\n",
       "      <td>218</td>\n",
       "    </tr>\n",
       "    <tr>\n",
       "      <th>1</th>\n",
       "      <td>female</td>\n",
       "      <td>group C</td>\n",
       "      <td>some college</td>\n",
       "      <td>standard</td>\n",
       "      <td>completed</td>\n",
       "      <td>69</td>\n",
       "      <td>90</td>\n",
       "      <td>88</td>\n",
       "      <td>247</td>\n",
       "    </tr>\n",
       "    <tr>\n",
       "      <th>2</th>\n",
       "      <td>female</td>\n",
       "      <td>group B</td>\n",
       "      <td>master's degree</td>\n",
       "      <td>standard</td>\n",
       "      <td>none</td>\n",
       "      <td>90</td>\n",
       "      <td>95</td>\n",
       "      <td>93</td>\n",
       "      <td>278</td>\n",
       "    </tr>\n",
       "    <tr>\n",
       "      <th>3</th>\n",
       "      <td>male</td>\n",
       "      <td>group A</td>\n",
       "      <td>associate's degree</td>\n",
       "      <td>free/reduced</td>\n",
       "      <td>none</td>\n",
       "      <td>47</td>\n",
       "      <td>57</td>\n",
       "      <td>44</td>\n",
       "      <td>148</td>\n",
       "    </tr>\n",
       "    <tr>\n",
       "      <th>4</th>\n",
       "      <td>male</td>\n",
       "      <td>group C</td>\n",
       "      <td>some college</td>\n",
       "      <td>standard</td>\n",
       "      <td>none</td>\n",
       "      <td>76</td>\n",
       "      <td>78</td>\n",
       "      <td>75</td>\n",
       "      <td>229</td>\n",
       "    </tr>\n",
       "    <tr>\n",
       "      <th>...</th>\n",
       "      <td>...</td>\n",
       "      <td>...</td>\n",
       "      <td>...</td>\n",
       "      <td>...</td>\n",
       "      <td>...</td>\n",
       "      <td>...</td>\n",
       "      <td>...</td>\n",
       "      <td>...</td>\n",
       "      <td>...</td>\n",
       "    </tr>\n",
       "    <tr>\n",
       "      <th>995</th>\n",
       "      <td>female</td>\n",
       "      <td>group E</td>\n",
       "      <td>master's degree</td>\n",
       "      <td>standard</td>\n",
       "      <td>completed</td>\n",
       "      <td>88</td>\n",
       "      <td>99</td>\n",
       "      <td>95</td>\n",
       "      <td>282</td>\n",
       "    </tr>\n",
       "    <tr>\n",
       "      <th>996</th>\n",
       "      <td>male</td>\n",
       "      <td>group C</td>\n",
       "      <td>high school</td>\n",
       "      <td>free/reduced</td>\n",
       "      <td>none</td>\n",
       "      <td>62</td>\n",
       "      <td>55</td>\n",
       "      <td>55</td>\n",
       "      <td>172</td>\n",
       "    </tr>\n",
       "    <tr>\n",
       "      <th>997</th>\n",
       "      <td>female</td>\n",
       "      <td>group C</td>\n",
       "      <td>high school</td>\n",
       "      <td>free/reduced</td>\n",
       "      <td>completed</td>\n",
       "      <td>59</td>\n",
       "      <td>71</td>\n",
       "      <td>65</td>\n",
       "      <td>195</td>\n",
       "    </tr>\n",
       "    <tr>\n",
       "      <th>998</th>\n",
       "      <td>female</td>\n",
       "      <td>group D</td>\n",
       "      <td>some college</td>\n",
       "      <td>standard</td>\n",
       "      <td>completed</td>\n",
       "      <td>68</td>\n",
       "      <td>78</td>\n",
       "      <td>77</td>\n",
       "      <td>223</td>\n",
       "    </tr>\n",
       "    <tr>\n",
       "      <th>999</th>\n",
       "      <td>female</td>\n",
       "      <td>group D</td>\n",
       "      <td>some college</td>\n",
       "      <td>free/reduced</td>\n",
       "      <td>none</td>\n",
       "      <td>77</td>\n",
       "      <td>86</td>\n",
       "      <td>86</td>\n",
       "      <td>249</td>\n",
       "    </tr>\n",
       "  </tbody>\n",
       "</table>\n",
       "<p>1000 rows × 9 columns</p>\n",
       "</div>"
      ],
      "text/plain": [
       "     gender race/ethnicity parental level of education         lunch  \\\n",
       "0    female        group B           bachelor's degree      standard   \n",
       "1    female        group C                some college      standard   \n",
       "2    female        group B             master's degree      standard   \n",
       "3      male        group A          associate's degree  free/reduced   \n",
       "4      male        group C                some college      standard   \n",
       "..      ...            ...                         ...           ...   \n",
       "995  female        group E             master's degree      standard   \n",
       "996    male        group C                 high school  free/reduced   \n",
       "997  female        group C                 high school  free/reduced   \n",
       "998  female        group D                some college      standard   \n",
       "999  female        group D                some college  free/reduced   \n",
       "\n",
       "    test preparation course  math score  reading score  writing score  \\\n",
       "0                      none          72             72             74   \n",
       "1                 completed          69             90             88   \n",
       "2                      none          90             95             93   \n",
       "3                      none          47             57             44   \n",
       "4                      none          76             78             75   \n",
       "..                      ...         ...            ...            ...   \n",
       "995               completed          88             99             95   \n",
       "996                    none          62             55             55   \n",
       "997               completed          59             71             65   \n",
       "998               completed          68             78             77   \n",
       "999                    none          77             86             86   \n",
       "\n",
       "     total score  \n",
       "0            218  \n",
       "1            247  \n",
       "2            278  \n",
       "3            148  \n",
       "4            229  \n",
       "..           ...  \n",
       "995          282  \n",
       "996          172  \n",
       "997          195  \n",
       "998          223  \n",
       "999          249  \n",
       "\n",
       "[1000 rows x 9 columns]"
      ]
     },
     "execution_count": 6,
     "metadata": {},
     "output_type": "execute_result"
    }
   ],
   "source": [
    "students_data"
   ]
  },
  {
   "cell_type": "markdown",
   "id": "4394aaeb",
   "metadata": {},
   "source": [
    "From here on we will use `students_data` as the main dataframe."
   ]
  },
  {
   "cell_type": "markdown",
   "id": "8ed44a99",
   "metadata": {},
   "source": [
    "### Does a parent's education reflect upon their child's academics?"
   ]
  },
  {
   "cell_type": "markdown",
   "id": "be806de8",
   "metadata": {},
   "source": [
    "By taking the data of all unique parent's education levels and the average of their child's exam scores, we will be able to determine if their level of education reveals any possible trends or significant impact towards academic results."
   ]
  },
  {
   "cell_type": "code",
   "execution_count": 7,
   "id": "0d6b07a9",
   "metadata": {
    "scrolled": true
   },
   "outputs": [
    {
     "data": {
      "text/html": [
       "<div>\n",
       "<style scoped>\n",
       "    .dataframe tbody tr th:only-of-type {\n",
       "        vertical-align: middle;\n",
       "    }\n",
       "\n",
       "    .dataframe tbody tr th {\n",
       "        vertical-align: top;\n",
       "    }\n",
       "\n",
       "    .dataframe thead th {\n",
       "        text-align: right;\n",
       "    }\n",
       "</style>\n",
       "<table border=\"1\" class=\"dataframe\">\n",
       "  <thead>\n",
       "    <tr style=\"text-align: right;\">\n",
       "      <th></th>\n",
       "      <th>math score</th>\n",
       "      <th>reading score</th>\n",
       "      <th>writing score</th>\n",
       "      <th>total score</th>\n",
       "    </tr>\n",
       "    <tr>\n",
       "      <th>parental level of education</th>\n",
       "      <th></th>\n",
       "      <th></th>\n",
       "      <th></th>\n",
       "      <th></th>\n",
       "    </tr>\n",
       "  </thead>\n",
       "  <tbody>\n",
       "    <tr>\n",
       "      <th>associate's degree</th>\n",
       "      <td>67.882883</td>\n",
       "      <td>70.927928</td>\n",
       "      <td>69.896396</td>\n",
       "      <td>208.707207</td>\n",
       "    </tr>\n",
       "    <tr>\n",
       "      <th>bachelor's degree</th>\n",
       "      <td>69.389831</td>\n",
       "      <td>73.000000</td>\n",
       "      <td>73.381356</td>\n",
       "      <td>215.771186</td>\n",
       "    </tr>\n",
       "    <tr>\n",
       "      <th>high school</th>\n",
       "      <td>62.137755</td>\n",
       "      <td>64.704082</td>\n",
       "      <td>62.448980</td>\n",
       "      <td>189.290816</td>\n",
       "    </tr>\n",
       "    <tr>\n",
       "      <th>master's degree</th>\n",
       "      <td>69.745763</td>\n",
       "      <td>75.372881</td>\n",
       "      <td>75.677966</td>\n",
       "      <td>220.796610</td>\n",
       "    </tr>\n",
       "    <tr>\n",
       "      <th>some college</th>\n",
       "      <td>67.128319</td>\n",
       "      <td>69.460177</td>\n",
       "      <td>68.840708</td>\n",
       "      <td>205.429204</td>\n",
       "    </tr>\n",
       "    <tr>\n",
       "      <th>some high school</th>\n",
       "      <td>63.497207</td>\n",
       "      <td>66.938547</td>\n",
       "      <td>64.888268</td>\n",
       "      <td>195.324022</td>\n",
       "    </tr>\n",
       "  </tbody>\n",
       "</table>\n",
       "</div>"
      ],
      "text/plain": [
       "                             math score  reading score  writing score  \\\n",
       "parental level of education                                             \n",
       "associate's degree            67.882883      70.927928      69.896396   \n",
       "bachelor's degree             69.389831      73.000000      73.381356   \n",
       "high school                   62.137755      64.704082      62.448980   \n",
       "master's degree               69.745763      75.372881      75.677966   \n",
       "some college                  67.128319      69.460177      68.840708   \n",
       "some high school              63.497207      66.938547      64.888268   \n",
       "\n",
       "                             total score  \n",
       "parental level of education               \n",
       "associate's degree            208.707207  \n",
       "bachelor's degree             215.771186  \n",
       "high school                   189.290816  \n",
       "master's degree               220.796610  \n",
       "some college                  205.429204  \n",
       "some high school              195.324022  "
      ]
     },
     "execution_count": 7,
     "metadata": {},
     "output_type": "execute_result"
    }
   ],
   "source": [
    "x = students_data.groupby('parental level of education').agg('mean')\n",
    "x"
   ]
  },
  {
   "cell_type": "code",
   "execution_count": 8,
   "id": "f32a8218",
   "metadata": {},
   "outputs": [],
   "source": [
    "x_axis = ['hs', 'some_hs', 'some_college', 'associate', 'bachelor', 'masters']"
   ]
  },
  {
   "cell_type": "code",
   "execution_count": 9,
   "id": "8002b653",
   "metadata": {},
   "outputs": [
    {
     "data": {
      "image/png": "[encoded data removed]",
      "text/plain": [
       "<Figure size 720x504 with 1 Axes>"
      ]
     },
     "metadata": {
      "needs_background": "light"
     },
     "output_type": "display_data"
    }
   ],
   "source": [
    "plt.figure(figsize=(10,7))\n",
    "plt.bar(x_axis, x['total score'].sort_values(), color = 'green')\n",
    "\n",
    "plt.ylabel('Avg Total Score', fontsize = '15')\n",
    "plt.xlabel('Levels of Parental Education', fontsize = '15')\n",
    "plt.title('How Parental Education effects exam score', fontsize = '15')\n",
    "plt.show()"
   ]
  },
  {
   "cell_type": "markdown",
   "id": "35625e49",
   "metadata": {},
   "source": [
    "The bar graph above is the result of after sorting the mean of the scores grouped by the parental levels of education. As shown, the more educated the parent is the higher their students tend to score in their exams. The average score of students who's parents only finished school up to high school is around 189 whereas the average score of students who's parents have a masters degree is well above 200 at around 220. Therefore, we can conclude that the parent's education does indeed have an impact towards their child's academics.\n",
    "\n",
    "However, we still lack evidence to assume that the reason why exam scores tend to be higher is solely due to a heirarchy of parental education. What could further support our answer? For one, we can look profoundly into some possible __economic factors.__ "
   ]
  },
  {
   "cell_type": "markdown",
   "id": "35ffd8e2",
   "metadata": {},
   "source": [
    "### Do Economic factors come into play?\n",
    "For the most part, financial aid is given to families dealing with financial problems and in need of financial support.\n",
    "The dataset includes whether students receive financial aid to help pay for their school lunch under the `lunch` column which includes two types of fee status:  \n",
    "1. Standard\n",
    "2. Free/reduced"
   ]
  },
  {
   "cell_type": "markdown",
   "id": "0302fa4b",
   "metadata": {},
   "source": [
    "So does this tell us whether a student's financial background could possibly affect their exam scores?\n",
    "<br>\n",
    "From here conduct a visual analysis comparing exam scores of those with standard lunch price vs free/reduced lunch price."
   ]
  },
  {
   "cell_type": "code",
   "execution_count": 10,
   "id": "aa09e0b1",
   "metadata": {},
   "outputs": [
    {
     "data": {
      "image/png": "[encoded data removed]",
      "text/plain": [
       "<Figure size 864x360 with 1 Axes>"
      ]
     },
     "metadata": {
      "needs_background": "light"
     },
     "output_type": "display_data"
    }
   ],
   "source": [
    "lunch_types = ['standard', 'free/reduced']\n",
    "l_scores = [students_data[students_data['lunch'] == 'standard']['total score'].mean(),\n",
    "            students_data[students_data['lunch'] == 'free/reduced']['total score'].mean()]\n",
    "\n",
    "plt.figure(figsize=(12,5))\n",
    "plt.bar(lunch_types, l_scores, color = 'red')\n",
    "plt.ylabel('Avg Total Score', fontsize = 13)\n",
    "plt.xlabel('Lunch Types', fontsize = 13)\n",
    "plt.title('Average Total Scores of Students who recieve Standard vs Free/reduced Lunch', fontsize = 14)\n",
    "plt.show()"
   ]
  },
  {
   "cell_type": "markdown",
   "id": "39234673",
   "metadata": {},
   "source": [
    "Students who recieve free or reduced lunch averaged lower test scores than those who pay the standard lunch price. This is also true based off the same groups within every student's parental level of education."
   ]
  },
  {
   "cell_type": "code",
   "execution_count": 11,
   "id": "e168901d",
   "metadata": {},
   "outputs": [
    {
     "data": {
      "text/html": [
       "<div>\n",
       "<style scoped>\n",
       "    .dataframe tbody tr th:only-of-type {\n",
       "        vertical-align: middle;\n",
       "    }\n",
       "\n",
       "    .dataframe tbody tr th {\n",
       "        vertical-align: top;\n",
       "    }\n",
       "\n",
       "    .dataframe thead th {\n",
       "        text-align: right;\n",
       "    }\n",
       "</style>\n",
       "<table border=\"1\" class=\"dataframe\">\n",
       "  <thead>\n",
       "    <tr style=\"text-align: right;\">\n",
       "      <th></th>\n",
       "      <th></th>\n",
       "      <th>math score</th>\n",
       "      <th>reading score</th>\n",
       "      <th>writing score</th>\n",
       "      <th>total score</th>\n",
       "    </tr>\n",
       "    <tr>\n",
       "      <th>parental level of education</th>\n",
       "      <th>lunch</th>\n",
       "      <th></th>\n",
       "      <th></th>\n",
       "      <th></th>\n",
       "      <th></th>\n",
       "    </tr>\n",
       "  </thead>\n",
       "  <tbody>\n",
       "    <tr>\n",
       "      <th rowspan=\"2\" valign=\"top\">associate's degree</th>\n",
       "      <th>free/reduced</th>\n",
       "      <td>62.610390</td>\n",
       "      <td>67.649351</td>\n",
       "      <td>66.025974</td>\n",
       "      <td>196.285714</td>\n",
       "    </tr>\n",
       "    <tr>\n",
       "      <th>standard</th>\n",
       "      <td>70.682759</td>\n",
       "      <td>72.668966</td>\n",
       "      <td>71.951724</td>\n",
       "      <td>215.303448</td>\n",
       "    </tr>\n",
       "    <tr>\n",
       "      <th rowspan=\"2\" valign=\"top\">bachelor's degree</th>\n",
       "      <th>free/reduced</th>\n",
       "      <td>63.000000</td>\n",
       "      <td>68.931818</td>\n",
       "      <td>69.227273</td>\n",
       "      <td>201.159091</td>\n",
       "    </tr>\n",
       "    <tr>\n",
       "      <th>standard</th>\n",
       "      <td>73.189189</td>\n",
       "      <td>75.418919</td>\n",
       "      <td>75.851351</td>\n",
       "      <td>224.459459</td>\n",
       "    </tr>\n",
       "    <tr>\n",
       "      <th rowspan=\"2\" valign=\"top\">high school</th>\n",
       "      <th>free/reduced</th>\n",
       "      <td>54.514286</td>\n",
       "      <td>60.214286</td>\n",
       "      <td>57.400000</td>\n",
       "      <td>172.128571</td>\n",
       "    </tr>\n",
       "    <tr>\n",
       "      <th>standard</th>\n",
       "      <td>66.373016</td>\n",
       "      <td>67.198413</td>\n",
       "      <td>65.253968</td>\n",
       "      <td>198.825397</td>\n",
       "    </tr>\n",
       "    <tr>\n",
       "      <th rowspan=\"2\" valign=\"top\">master's degree</th>\n",
       "      <th>free/reduced</th>\n",
       "      <td>61.166667</td>\n",
       "      <td>70.291667</td>\n",
       "      <td>69.875000</td>\n",
       "      <td>201.333333</td>\n",
       "    </tr>\n",
       "    <tr>\n",
       "      <th>standard</th>\n",
       "      <td>75.628571</td>\n",
       "      <td>78.857143</td>\n",
       "      <td>79.657143</td>\n",
       "      <td>234.142857</td>\n",
       "    </tr>\n",
       "    <tr>\n",
       "      <th rowspan=\"2\" valign=\"top\">some college</th>\n",
       "      <th>free/reduced</th>\n",
       "      <td>60.126582</td>\n",
       "      <td>65.075949</td>\n",
       "      <td>63.708861</td>\n",
       "      <td>188.911392</td>\n",
       "    </tr>\n",
       "    <tr>\n",
       "      <th>standard</th>\n",
       "      <td>70.891156</td>\n",
       "      <td>71.816327</td>\n",
       "      <td>71.598639</td>\n",
       "      <td>214.306122</td>\n",
       "    </tr>\n",
       "    <tr>\n",
       "      <th rowspan=\"2\" valign=\"top\">some high school</th>\n",
       "      <th>free/reduced</th>\n",
       "      <td>53.934426</td>\n",
       "      <td>60.114754</td>\n",
       "      <td>57.622951</td>\n",
       "      <td>171.672131</td>\n",
       "    </tr>\n",
       "    <tr>\n",
       "      <th>standard</th>\n",
       "      <td>68.440678</td>\n",
       "      <td>70.466102</td>\n",
       "      <td>68.644068</td>\n",
       "      <td>207.550847</td>\n",
       "    </tr>\n",
       "  </tbody>\n",
       "</table>\n",
       "</div>"
      ],
      "text/plain": [
       "                                          math score  reading score  \\\n",
       "parental level of education lunch                                     \n",
       "associate's degree          free/reduced   62.610390      67.649351   \n",
       "                            standard       70.682759      72.668966   \n",
       "bachelor's degree           free/reduced   63.000000      68.931818   \n",
       "                            standard       73.189189      75.418919   \n",
       "high school                 free/reduced   54.514286      60.214286   \n",
       "                            standard       66.373016      67.198413   \n",
       "master's degree             free/reduced   61.166667      70.291667   \n",
       "                            standard       75.628571      78.857143   \n",
       "some college                free/reduced   60.126582      65.075949   \n",
       "                            standard       70.891156      71.816327   \n",
       "some high school            free/reduced   53.934426      60.114754   \n",
       "                            standard       68.440678      70.466102   \n",
       "\n",
       "                                          writing score  total score  \n",
       "parental level of education lunch                                     \n",
       "associate's degree          free/reduced      66.025974   196.285714  \n",
       "                            standard          71.951724   215.303448  \n",
       "bachelor's degree           free/reduced      69.227273   201.159091  \n",
       "                            standard          75.851351   224.459459  \n",
       "high school                 free/reduced      57.400000   172.128571  \n",
       "                            standard          65.253968   198.825397  \n",
       "master's degree             free/reduced      69.875000   201.333333  \n",
       "                            standard          79.657143   234.142857  \n",
       "some college                free/reduced      63.708861   188.911392  \n",
       "                            standard          71.598639   214.306122  \n",
       "some high school            free/reduced      57.622951   171.672131  \n",
       "                            standard          68.644068   207.550847  "
      ]
     },
     "execution_count": 11,
     "metadata": {},
     "output_type": "execute_result"
    }
   ],
   "source": [
    "data = students_data.groupby(['parental level of education', 'lunch']).agg('mean')\n",
    "data"
   ]
  },
  {
   "cell_type": "markdown",
   "id": "38cf10f4",
   "metadata": {},
   "source": [
    "\n",
    "Financial aid is usually given to families with financial problems and in need of financial support. Although not always true, parents who are more well educated bring home higher income. Therefore, certain families would recieve the standard lunch fee whereas other families would recieve a free/reduced lunch fee. To determine if this applies to our data we need to analyze whether it is true that the higher the parental level of education, the lower the percentage of receiving free/reduced lunch fees."
   ]
  },
  {
   "cell_type": "code",
   "execution_count": 12,
   "id": "0328ca20",
   "metadata": {
    "scrolled": true
   },
   "outputs": [
    {
     "data": {
      "text/html": [
       "<div>\n",
       "<style scoped>\n",
       "    .dataframe tbody tr th:only-of-type {\n",
       "        vertical-align: middle;\n",
       "    }\n",
       "\n",
       "    .dataframe tbody tr th {\n",
       "        vertical-align: top;\n",
       "    }\n",
       "\n",
       "    .dataframe thead th {\n",
       "        text-align: right;\n",
       "    }\n",
       "</style>\n",
       "<table border=\"1\" class=\"dataframe\">\n",
       "  <thead>\n",
       "    <tr style=\"text-align: right;\">\n",
       "      <th></th>\n",
       "      <th>lunch</th>\n",
       "      <th>size</th>\n",
       "      <th>percentage</th>\n",
       "    </tr>\n",
       "    <tr>\n",
       "      <th>parental level of education</th>\n",
       "      <th></th>\n",
       "      <th></th>\n",
       "      <th></th>\n",
       "    </tr>\n",
       "  </thead>\n",
       "  <tbody>\n",
       "    <tr>\n",
       "      <th>associate's degree</th>\n",
       "      <td>free/reduced</td>\n",
       "      <td>77</td>\n",
       "      <td>34.684685</td>\n",
       "    </tr>\n",
       "    <tr>\n",
       "      <th>associate's degree</th>\n",
       "      <td>standard</td>\n",
       "      <td>145</td>\n",
       "      <td>65.315315</td>\n",
       "    </tr>\n",
       "    <tr>\n",
       "      <th>bachelor's degree</th>\n",
       "      <td>free/reduced</td>\n",
       "      <td>44</td>\n",
       "      <td>37.288136</td>\n",
       "    </tr>\n",
       "    <tr>\n",
       "      <th>bachelor's degree</th>\n",
       "      <td>standard</td>\n",
       "      <td>74</td>\n",
       "      <td>62.711864</td>\n",
       "    </tr>\n",
       "    <tr>\n",
       "      <th>high school</th>\n",
       "      <td>free/reduced</td>\n",
       "      <td>70</td>\n",
       "      <td>35.714286</td>\n",
       "    </tr>\n",
       "    <tr>\n",
       "      <th>high school</th>\n",
       "      <td>standard</td>\n",
       "      <td>126</td>\n",
       "      <td>64.285714</td>\n",
       "    </tr>\n",
       "    <tr>\n",
       "      <th>master's degree</th>\n",
       "      <td>free/reduced</td>\n",
       "      <td>24</td>\n",
       "      <td>40.677966</td>\n",
       "    </tr>\n",
       "    <tr>\n",
       "      <th>master's degree</th>\n",
       "      <td>standard</td>\n",
       "      <td>35</td>\n",
       "      <td>59.322034</td>\n",
       "    </tr>\n",
       "    <tr>\n",
       "      <th>some college</th>\n",
       "      <td>free/reduced</td>\n",
       "      <td>79</td>\n",
       "      <td>34.955752</td>\n",
       "    </tr>\n",
       "    <tr>\n",
       "      <th>some college</th>\n",
       "      <td>standard</td>\n",
       "      <td>147</td>\n",
       "      <td>65.044248</td>\n",
       "    </tr>\n",
       "    <tr>\n",
       "      <th>some high school</th>\n",
       "      <td>free/reduced</td>\n",
       "      <td>61</td>\n",
       "      <td>34.078212</td>\n",
       "    </tr>\n",
       "    <tr>\n",
       "      <th>some high school</th>\n",
       "      <td>standard</td>\n",
       "      <td>118</td>\n",
       "      <td>65.921788</td>\n",
       "    </tr>\n",
       "  </tbody>\n",
       "</table>\n",
       "</div>"
      ],
      "text/plain": [
       "                                    lunch  size  percentage\n",
       "parental level of education                                \n",
       "associate's degree           free/reduced    77   34.684685\n",
       "associate's degree               standard   145   65.315315\n",
       "bachelor's degree            free/reduced    44   37.288136\n",
       "bachelor's degree                standard    74   62.711864\n",
       "high school                  free/reduced    70   35.714286\n",
       "high school                      standard   126   64.285714\n",
       "master's degree              free/reduced    24   40.677966\n",
       "master's degree                  standard    35   59.322034\n",
       "some college                 free/reduced    79   34.955752\n",
       "some college                     standard   147   65.044248\n",
       "some high school             free/reduced    61   34.078212\n",
       "some high school                 standard   118   65.921788"
      ]
     },
     "execution_count": 12,
     "metadata": {},
     "output_type": "execute_result"
    }
   ],
   "source": [
    "lunch_count = students_data.groupby(['parental level of education', 'lunch'], as_index=False).size()\n",
    "L = lunch_count.rename(columns = {0: 'count'})\n",
    "Lunch_count = L.set_index('parental level of education')\n",
    "Lunch_count\n",
    "\n",
    "lunch_num = students_data['parental level of education'].value_counts()\n",
    "\n",
    "Lunch_count['percentage'] = [(Lunch_count.loc[\"associate's degree\", 'size'] / lunch_num[\"associate's degree\"]).iloc[0] * 100,\n",
    "                             (Lunch_count.loc[\"associate's degree\", 'size'] / lunch_num[\"associate's degree\"]).iloc[1] * 100,\n",
    "                             (Lunch_count.loc[\"bachelor's degree\", 'size'] / lunch_num[\"bachelor's degree\"]).iloc[0] * 100,\n",
    "                             (Lunch_count.loc[\"bachelor's degree\", 'size'] / lunch_num[\"bachelor's degree\"]).iloc[1] * 100,\n",
    "                             (Lunch_count.loc[\"high school\", 'size'] / lunch_num[\"high school\"]).iloc[0] * 100,\n",
    "                             (Lunch_count.loc[\"high school\", 'size'] / lunch_num[\"high school\"]).iloc[1] * 100,\n",
    "                             (Lunch_count.loc[\"master's degree\", 'size'] / lunch_num[\"master's degree\"]).iloc[0] * 100,\n",
    "                             (Lunch_count.loc[\"master's degree\", 'size'] / lunch_num[\"master's degree\"]).iloc[1] * 100,\n",
    "                             (Lunch_count.loc[\"some college\", 'size'] / lunch_num[\"some college\"]).iloc[0] * 100,\n",
    "                             (Lunch_count.loc[\"some college\", 'size'] / lunch_num[\"some college\"]).iloc[1] * 100,\n",
    "                             (Lunch_count.loc[\"some high school\", 'size'] / lunch_num[\"some high school\"]).iloc[0] * 100,\n",
    "                             (Lunch_count.loc[\"some high school\", 'size'] / lunch_num[\"some high school\"]).iloc[1] * 100\n",
    "                            ]\n",
    "Lunch_count"
   ]
  },
  {
   "cell_type": "code",
   "execution_count": 13,
   "id": "e0e9ad1f",
   "metadata": {},
   "outputs": [
    {
     "data": {
      "image/png": "[encoded data removed]",
      "text/plain": [
       "<Figure size 1008x576 with 1 Axes>"
      ]
     },
     "metadata": {
      "needs_background": "light"
     },
     "output_type": "display_data"
    }
   ],
   "source": [
    "Percentage = Lunch_count[['lunch', 'percentage']].sort_values('percentage')\n",
    "Percentage\n",
    "\n",
    "standard = Percentage[Percentage['lunch'] == 'standard']\n",
    "free_reduced = Percentage[Percentage['lunch'] == 'free/reduced']\n",
    "\n",
    "fig, axes = plt.subplots(figsize=(14, 8))\n",
    "\n",
    "colors = {'% standard fees':'Blue', '% free/reduced fees':'Red'}         \n",
    "labels = list(colors.keys())\n",
    "handles = [plt.Rectangle((0,0),1,1, color=colors[label]) for label in labels]\n",
    "axes.legend(handles, labels)\n",
    "\n",
    "axes.plot(standard.index.values, standard['percentage'], color = 'Blue')\n",
    "axes.plot(free_reduced.index.values, free_reduced['percentage'], color = 'Red')\n",
    "axes.set_xlabel('Levels of Parental Education', fontsize = '15')\n",
    "axes.set_ylabel('Percentage %', fontsize = '15')\n",
    "axes.set_title('Percentage of (standard vs free/reduced) by Education Levels ', fontsize = '17')\n",
    "axes.grid()"
   ]
  },
  {
   "cell_type": "markdown",
   "id": "a52e6cbf",
   "metadata": {},
   "source": [
    "With our given information it seems to be __False__ that parents with higher levels of education tend to recieve a lower percentage of free/reduced lunch fees compared to parents with lower levels education. Interestingly enough, by looking at the graph above we see that parents with a master's degree have the smallest gap __( free/reduced: 40.7% | standard: 59.3% )__. As a matter of fact it turns out the child's parents who finished school as far as some high school is the group which recieved the lowest percentage of free/reduced lunch fees __( free/reduced: 34.1%  |  standard\t65.9% )__."
   ]
  },
  {
   "cell_type": "markdown",
   "id": "83c1d179",
   "metadata": {},
   "source": [
    "Therefore the analysis reveals parental level of education do not factor into whether students receive standard or free/reduced lunch fees. However within the same group in terms of parental level of education, students who pay the standard lunch fees do score higher in their exams. We cannot assume that hierarchy of parental level of education strongly associates with an individual's economical background but we can still say that hierarchy of parental education factor into higher exam scores."
   ]
  },
  {
   "cell_type": "markdown",
   "id": "c7e27018",
   "metadata": {},
   "source": [
    "### What else can parents do to improve their student's score? "
   ]
  },
  {
   "cell_type": "markdown",
   "id": "bb582135",
   "metadata": {},
   "source": [
    "### __1. Test Preparation Courses__"
   ]
  },
  {
   "cell_type": "markdown",
   "id": "d8d14ca4",
   "metadata": {},
   "source": [
    "One of the most common approach for an academic boost is by taking extra courses instilling the needed material into one's brain. In `students_data` we can look into the `test preparation course` column which lists the students who have completed the test preparation course."
   ]
  },
  {
   "cell_type": "code",
   "execution_count": 14,
   "id": "f4dadd88",
   "metadata": {
    "scrolled": false
   },
   "outputs": [
    {
     "data": {
      "text/html": [
       "<div>\n",
       "<style scoped>\n",
       "    .dataframe tbody tr th:only-of-type {\n",
       "        vertical-align: middle;\n",
       "    }\n",
       "\n",
       "    .dataframe tbody tr th {\n",
       "        vertical-align: top;\n",
       "    }\n",
       "\n",
       "    .dataframe thead th {\n",
       "        text-align: right;\n",
       "    }\n",
       "</style>\n",
       "<table border=\"1\" class=\"dataframe\">\n",
       "  <thead>\n",
       "    <tr style=\"text-align: right;\">\n",
       "      <th></th>\n",
       "      <th></th>\n",
       "      <th>math score</th>\n",
       "      <th>reading score</th>\n",
       "      <th>writing score</th>\n",
       "      <th>total score</th>\n",
       "    </tr>\n",
       "    <tr>\n",
       "      <th>parental level of education</th>\n",
       "      <th>test preparation course</th>\n",
       "      <th></th>\n",
       "      <th></th>\n",
       "      <th></th>\n",
       "      <th></th>\n",
       "    </tr>\n",
       "  </thead>\n",
       "  <tbody>\n",
       "    <tr>\n",
       "      <th rowspan=\"2\" valign=\"top\">associate's degree</th>\n",
       "      <th>completed</th>\n",
       "      <td>71.829268</td>\n",
       "      <td>76.170732</td>\n",
       "      <td>76.817073</td>\n",
       "      <td>224.817073</td>\n",
       "    </tr>\n",
       "    <tr>\n",
       "      <th>none</th>\n",
       "      <td>65.571429</td>\n",
       "      <td>67.857143</td>\n",
       "      <td>65.842857</td>\n",
       "      <td>199.271429</td>\n",
       "    </tr>\n",
       "    <tr>\n",
       "      <th rowspan=\"2\" valign=\"top\">bachelor's degree</th>\n",
       "      <th>completed</th>\n",
       "      <td>73.282609</td>\n",
       "      <td>76.739130</td>\n",
       "      <td>78.695652</td>\n",
       "      <td>228.717391</td>\n",
       "    </tr>\n",
       "    <tr>\n",
       "      <th>none</th>\n",
       "      <td>66.902778</td>\n",
       "      <td>70.611111</td>\n",
       "      <td>69.986111</td>\n",
       "      <td>207.500000</td>\n",
       "    </tr>\n",
       "    <tr>\n",
       "      <th rowspan=\"2\" valign=\"top\">high school</th>\n",
       "      <th>completed</th>\n",
       "      <td>65.000000</td>\n",
       "      <td>67.839286</td>\n",
       "      <td>68.053571</td>\n",
       "      <td>200.892857</td>\n",
       "    </tr>\n",
       "    <tr>\n",
       "      <th>none</th>\n",
       "      <td>60.992857</td>\n",
       "      <td>63.450000</td>\n",
       "      <td>60.207143</td>\n",
       "      <td>184.650000</td>\n",
       "    </tr>\n",
       "    <tr>\n",
       "      <th rowspan=\"2\" valign=\"top\">master's degree</th>\n",
       "      <th>completed</th>\n",
       "      <td>70.600000</td>\n",
       "      <td>78.250000</td>\n",
       "      <td>80.100000</td>\n",
       "      <td>228.950000</td>\n",
       "    </tr>\n",
       "    <tr>\n",
       "      <th>none</th>\n",
       "      <td>69.307692</td>\n",
       "      <td>73.897436</td>\n",
       "      <td>73.410256</td>\n",
       "      <td>216.615385</td>\n",
       "    </tr>\n",
       "    <tr>\n",
       "      <th rowspan=\"2\" valign=\"top\">some college</th>\n",
       "      <th>completed</th>\n",
       "      <td>71.454545</td>\n",
       "      <td>75.987013</td>\n",
       "      <td>76.519481</td>\n",
       "      <td>223.961039</td>\n",
       "    </tr>\n",
       "    <tr>\n",
       "      <th>none</th>\n",
       "      <td>64.892617</td>\n",
       "      <td>66.087248</td>\n",
       "      <td>64.872483</td>\n",
       "      <td>195.852349</td>\n",
       "    </tr>\n",
       "    <tr>\n",
       "      <th rowspan=\"2\" valign=\"top\">some high school</th>\n",
       "      <th>completed</th>\n",
       "      <td>66.701299</td>\n",
       "      <td>70.948052</td>\n",
       "      <td>70.363636</td>\n",
       "      <td>208.012987</td>\n",
       "    </tr>\n",
       "    <tr>\n",
       "      <th>none</th>\n",
       "      <td>61.078431</td>\n",
       "      <td>63.911765</td>\n",
       "      <td>60.754902</td>\n",
       "      <td>185.745098</td>\n",
       "    </tr>\n",
       "  </tbody>\n",
       "</table>\n",
       "</div>"
      ],
      "text/plain": [
       "                                                     math score  \\\n",
       "parental level of education test preparation course               \n",
       "associate's degree          completed                 71.829268   \n",
       "                            none                      65.571429   \n",
       "bachelor's degree           completed                 73.282609   \n",
       "                            none                      66.902778   \n",
       "high school                 completed                 65.000000   \n",
       "                            none                      60.992857   \n",
       "master's degree             completed                 70.600000   \n",
       "                            none                      69.307692   \n",
       "some college                completed                 71.454545   \n",
       "                            none                      64.892617   \n",
       "some high school            completed                 66.701299   \n",
       "                            none                      61.078431   \n",
       "\n",
       "                                                     reading score  \\\n",
       "parental level of education test preparation course                  \n",
       "associate's degree          completed                    76.170732   \n",
       "                            none                         67.857143   \n",
       "bachelor's degree           completed                    76.739130   \n",
       "                            none                         70.611111   \n",
       "high school                 completed                    67.839286   \n",
       "                            none                         63.450000   \n",
       "master's degree             completed                    78.250000   \n",
       "                            none                         73.897436   \n",
       "some college                completed                    75.987013   \n",
       "                            none                         66.087248   \n",
       "some high school            completed                    70.948052   \n",
       "                            none                         63.911765   \n",
       "\n",
       "                                                     writing score  \\\n",
       "parental level of education test preparation course                  \n",
       "associate's degree          completed                    76.817073   \n",
       "                            none                         65.842857   \n",
       "bachelor's degree           completed                    78.695652   \n",
       "                            none                         69.986111   \n",
       "high school                 completed                    68.053571   \n",
       "                            none                         60.207143   \n",
       "master's degree             completed                    80.100000   \n",
       "                            none                         73.410256   \n",
       "some college                completed                    76.519481   \n",
       "                            none                         64.872483   \n",
       "some high school            completed                    70.363636   \n",
       "                            none                         60.754902   \n",
       "\n",
       "                                                     total score  \n",
       "parental level of education test preparation course               \n",
       "associate's degree          completed                 224.817073  \n",
       "                            none                      199.271429  \n",
       "bachelor's degree           completed                 228.717391  \n",
       "                            none                      207.500000  \n",
       "high school                 completed                 200.892857  \n",
       "                            none                      184.650000  \n",
       "master's degree             completed                 228.950000  \n",
       "                            none                      216.615385  \n",
       "some college                completed                 223.961039  \n",
       "                            none                      195.852349  \n",
       "some high school            completed                 208.012987  \n",
       "                            none                      185.745098  "
      ]
     },
     "execution_count": 14,
     "metadata": {},
     "output_type": "execute_result"
    }
   ],
   "source": [
    "data2 = students_data.groupby(['parental level of education', 'test preparation course']).agg('mean')\n",
    "data2"
   ]
  },
  {
   "cell_type": "markdown",
   "id": "069fd2df",
   "metadata": {},
   "source": [
    "For this project's purposes we will also factor in parental level of education. As we can see above, test scores are without a doubt significantly higher when students have completed the test preparation course. Additionally, among those who completed the preparation course scored higher as the level of parental education is higher as well."
   ]
  },
  {
   "cell_type": "code",
   "execution_count": 15,
   "id": "bf550d96",
   "metadata": {},
   "outputs": [
    {
     "data": {
      "text/html": [
       "<div>\n",
       "<style scoped>\n",
       "    .dataframe tbody tr th:only-of-type {\n",
       "        vertical-align: middle;\n",
       "    }\n",
       "\n",
       "    .dataframe tbody tr th {\n",
       "        vertical-align: top;\n",
       "    }\n",
       "\n",
       "    .dataframe thead th {\n",
       "        text-align: right;\n",
       "    }\n",
       "</style>\n",
       "<table border=\"1\" class=\"dataframe\">\n",
       "  <thead>\n",
       "    <tr style=\"text-align: right;\">\n",
       "      <th></th>\n",
       "      <th></th>\n",
       "      <th>math score</th>\n",
       "      <th>reading score</th>\n",
       "      <th>writing score</th>\n",
       "      <th>total score</th>\n",
       "    </tr>\n",
       "    <tr>\n",
       "      <th>parental level of education</th>\n",
       "      <th>test preparation course</th>\n",
       "      <th></th>\n",
       "      <th></th>\n",
       "      <th></th>\n",
       "      <th></th>\n",
       "    </tr>\n",
       "  </thead>\n",
       "  <tbody>\n",
       "    <tr>\n",
       "      <th>some college</th>\n",
       "      <th>completed</th>\n",
       "      <td>71.454545</td>\n",
       "      <td>75.987013</td>\n",
       "      <td>76.519481</td>\n",
       "      <td>223.961039</td>\n",
       "    </tr>\n",
       "    <tr>\n",
       "      <th>associate's degree</th>\n",
       "      <th>completed</th>\n",
       "      <td>71.829268</td>\n",
       "      <td>76.170732</td>\n",
       "      <td>76.817073</td>\n",
       "      <td>224.817073</td>\n",
       "    </tr>\n",
       "    <tr>\n",
       "      <th>bachelor's degree</th>\n",
       "      <th>completed</th>\n",
       "      <td>73.282609</td>\n",
       "      <td>76.739130</td>\n",
       "      <td>78.695652</td>\n",
       "      <td>228.717391</td>\n",
       "    </tr>\n",
       "    <tr>\n",
       "      <th>master's degree</th>\n",
       "      <th>completed</th>\n",
       "      <td>70.600000</td>\n",
       "      <td>78.250000</td>\n",
       "      <td>80.100000</td>\n",
       "      <td>228.950000</td>\n",
       "    </tr>\n",
       "  </tbody>\n",
       "</table>\n",
       "</div>"
      ],
      "text/plain": [
       "                                                     math score  \\\n",
       "parental level of education test preparation course               \n",
       "some college                completed                 71.454545   \n",
       "associate's degree          completed                 71.829268   \n",
       "bachelor's degree           completed                 73.282609   \n",
       "master's degree             completed                 70.600000   \n",
       "\n",
       "                                                     reading score  \\\n",
       "parental level of education test preparation course                  \n",
       "some college                completed                    75.987013   \n",
       "associate's degree          completed                    76.170732   \n",
       "bachelor's degree           completed                    76.739130   \n",
       "master's degree             completed                    78.250000   \n",
       "\n",
       "                                                     writing score  \\\n",
       "parental level of education test preparation course                  \n",
       "some college                completed                    76.519481   \n",
       "associate's degree          completed                    76.817073   \n",
       "bachelor's degree           completed                    78.695652   \n",
       "master's degree             completed                    80.100000   \n",
       "\n",
       "                                                     total score  \n",
       "parental level of education test preparation course               \n",
       "some college                completed                 223.961039  \n",
       "associate's degree          completed                 224.817073  \n",
       "bachelor's degree           completed                 228.717391  \n",
       "master's degree             completed                 228.950000  "
      ]
     },
     "execution_count": 15,
     "metadata": {},
     "output_type": "execute_result"
    }
   ],
   "source": [
    "prep = data2.sort_values('total score')\n",
    "prep.iloc[-4:] # Top 4 results!"
   ]
  },
  {
   "cell_type": "markdown",
   "id": "8be380f8",
   "metadata": {},
   "source": [
    "Students who's parents went to college and have completed the test preparation course recieved the highest test scores in every subject."
   ]
  },
  {
   "cell_type": "code",
   "execution_count": 16,
   "id": "a01e474f",
   "metadata": {},
   "outputs": [
    {
     "data": {
      "text/plain": [
       "Text(0.5, 1.0, \"How Test Preparation Courses & Parent's Education affect their child's exam scores\")"
      ]
     },
     "execution_count": 16,
     "metadata": {},
     "output_type": "execute_result"
    },
    {
     "data": {
      "image/png": "[encoded data removed]",
      "text/plain": [
       "<Figure size 864x504 with 1 Axes>"
      ]
     },
     "metadata": {
      "needs_background": "light"
     },
     "output_type": "display_data"
    }
   ],
   "source": [
    "plt.figure(figsize=(12,7))\n",
    "students_data.groupby(['parental level of education', \n",
    "                       'test preparation course']).agg('mean')['total score'].sort_values().plot.barh(color = 'red')\n",
    "plt.xlabel('Average of Total Test Scores', fontsize = '13')\n",
    "plt.title(\"How Test Preparation Courses & Parent's Education affect their child's exam scores\", fontsize = 15)"
   ]
  },
  {
   "cell_type": "markdown",
   "id": "7a379a38",
   "metadata": {},
   "source": [
    "Therefore evidence from the data suggest that test preparation courses are quite effective into improving the student's test scores and additionally parental level of education also plays a factor."
   ]
  },
  {
   "cell_type": "markdown",
   "id": "ac1d72be",
   "metadata": {},
   "source": [
    "### __2. Acknowledging Strengths and Weaknesses__"
   ]
  },
  {
   "cell_type": "markdown",
   "id": "339a5fa8",
   "metadata": {},
   "source": [
    "Now let's dig a bit deeper! We can further ask which specific subject should a student focus on to achieve the best possible result."
   ]
  },
  {
   "cell_type": "markdown",
   "id": "55b3c666",
   "metadata": {},
   "source": [
    "As we can see, only three subjects are being tested: Math, Reading, and Writing. Another way to improve the total exam score is to target the strengths and weaknesses of each individual's academic subjects. Before identifying this, start by asking: Out of the three subjects, which best correlates to possibly the success of another subject?"
   ]
  },
  {
   "cell_type": "code",
   "execution_count": 17,
   "id": "52015e49",
   "metadata": {
    "scrolled": false
   },
   "outputs": [
    {
     "name": "stderr",
     "output_type": "stream",
     "text": [
      "C:\\Users\\Yosua\\anaconda3\\lib\\site-packages\\seaborn\\_decorators.py:36: FutureWarning: Pass the following variables as keyword args: x, y. From version 0.12, the only valid positional argument will be `data`, and passing other arguments without an explicit keyword will result in an error or misinterpretation.\n",
      "  warnings.warn(\n",
      "C:\\Users\\Yosua\\anaconda3\\lib\\site-packages\\seaborn\\_decorators.py:36: FutureWarning: Pass the following variables as keyword args: x, y. From version 0.12, the only valid positional argument will be `data`, and passing other arguments without an explicit keyword will result in an error or misinterpretation.\n",
      "  warnings.warn(\n"
     ]
    },
    {
     "data": {
      "image/png": "[encoded data removed]",
      "text/plain": [
       "<Figure size 864x504 with 2 Axes>"
      ]
     },
     "metadata": {
      "needs_background": "light"
     },
     "output_type": "display_data"
    }
   ],
   "source": [
    "import seaborn as sns\n",
    "\n",
    "plt.figure(figsize=(12,7))\n",
    "\n",
    "plt.subplot(1, 2, 1)\n",
    "plt.scatter(students_data['math score'], students_data['writing score'])\n",
    "plt.title('Math & Writing', fontsize = 15)\n",
    "plt.xlabel('Math Scores', fontsize = 13)\n",
    "plt.ylabel('Writing Scores', fontsize = 13)\n",
    "sns.regplot(students_data['math score'], students_data['writing score'],\n",
    "            scatter_kws={\"color\": \"blue\"}, line_kws={\"color\": \"red\"} )\n",
    "\n",
    "\n",
    "plt.subplot(1, 2, 2)\n",
    "plt.scatter(students_data['math score'], students_data['reading score'])\n",
    "plt.title('Math & Reading', fontsize = 15)\n",
    "plt.xlabel('Math Scores', fontsize = 13)\n",
    "plt.ylabel('Reading Scores', fontsize = 13)\n",
    "sns.regplot(students_data['math score'], students_data['reading score'],\n",
    "            scatter_kws={\"color\": \"blue\"}, line_kws={\"color\": \"red\"} )\n",
    "\n",
    "plt.tight_layout()"
   ]
  },
  {
   "cell_type": "markdown",
   "id": "1f70a1da",
   "metadata": {},
   "source": [
    "As we can see by taking all the math scores and comparing it to the other two subjects, we can visually identify a positive correlation. Students with higher math scores tend to have scored around the same range in reading and writing as well. It also means students who scored low in math also scored low in the other two subjects.  \n",
    "\n",
    "\n",
    "As an example, we can see in the graphs that the one student who scored a 0/100 in math also did poorly in the other two subjects with a score of less than 20/100.\n"
   ]
  },
  {
   "cell_type": "code",
   "execution_count": 18,
   "id": "7e66e85e",
   "metadata": {
    "scrolled": true
   },
   "outputs": [
    {
     "data": {
      "text/html": [
       "<div>\n",
       "<style scoped>\n",
       "    .dataframe tbody tr th:only-of-type {\n",
       "        vertical-align: middle;\n",
       "    }\n",
       "\n",
       "    .dataframe tbody tr th {\n",
       "        vertical-align: top;\n",
       "    }\n",
       "\n",
       "    .dataframe thead th {\n",
       "        text-align: right;\n",
       "    }\n",
       "</style>\n",
       "<table border=\"1\" class=\"dataframe\">\n",
       "  <thead>\n",
       "    <tr style=\"text-align: right;\">\n",
       "      <th></th>\n",
       "      <th>gender</th>\n",
       "      <th>race/ethnicity</th>\n",
       "      <th>parental level of education</th>\n",
       "      <th>lunch</th>\n",
       "      <th>test preparation course</th>\n",
       "      <th>math score</th>\n",
       "      <th>reading score</th>\n",
       "      <th>writing score</th>\n",
       "      <th>total score</th>\n",
       "    </tr>\n",
       "  </thead>\n",
       "  <tbody>\n",
       "    <tr>\n",
       "      <th>59</th>\n",
       "      <td>female</td>\n",
       "      <td>group C</td>\n",
       "      <td>some high school</td>\n",
       "      <td>free/reduced</td>\n",
       "      <td>none</td>\n",
       "      <td>0</td>\n",
       "      <td>17</td>\n",
       "      <td>10</td>\n",
       "      <td>27</td>\n",
       "    </tr>\n",
       "  </tbody>\n",
       "</table>\n",
       "</div>"
      ],
      "text/plain": [
       "    gender race/ethnicity parental level of education         lunch  \\\n",
       "59  female        group C            some high school  free/reduced   \n",
       "\n",
       "   test preparation course  math score  reading score  writing score  \\\n",
       "59                    none           0             17             10   \n",
       "\n",
       "    total score  \n",
       "59           27  "
      ]
     },
     "execution_count": 18,
     "metadata": {},
     "output_type": "execute_result"
    }
   ],
   "source": [
    "students_data[students_data['math score'] == 0]"
   ]
  },
  {
   "cell_type": "markdown",
   "id": "c1cf3b15",
   "metadata": {},
   "source": [
    "Additionaly from our previous observations, it does not seem to be a coincidence judging from her exam scores that this student receives free/reduced lunch, did not recieve any test preparational courses, and parents not go to college."
   ]
  },
  {
   "cell_type": "markdown",
   "id": "e80dec65",
   "metadata": {},
   "source": [
    "Now by comparing reading and writing scores, we can see that these two subjects also have a positive correlation. However, it is important to note that these two subjects are significantly more strongly correlated. "
   ]
  },
  {
   "cell_type": "code",
   "execution_count": 19,
   "id": "ee4d57d0",
   "metadata": {},
   "outputs": [
    {
     "name": "stderr",
     "output_type": "stream",
     "text": [
      "C:\\Users\\Yosua\\anaconda3\\lib\\site-packages\\seaborn\\_decorators.py:36: FutureWarning: Pass the following variables as keyword args: x, y. From version 0.12, the only valid positional argument will be `data`, and passing other arguments without an explicit keyword will result in an error or misinterpretation.\n",
      "  warnings.warn(\n"
     ]
    },
    {
     "data": {
      "text/plain": [
       "<AxesSubplot:title={'center':'Reading & Writing'}, xlabel='writing score', ylabel='reading score'>"
      ]
     },
     "execution_count": 19,
     "metadata": {},
     "output_type": "execute_result"
    },
    {
     "data": {
      "image/png": "[encoded data removed]",
      "text/plain": [
       "<Figure size 720x576 with 1 Axes>"
      ]
     },
     "metadata": {
      "needs_background": "light"
     },
     "output_type": "display_data"
    }
   ],
   "source": [
    "plt.figure(figsize=(10,8))\n",
    "plt.scatter(students_data['writing score'], students_data['reading score'])\n",
    "plt.title('Reading & Writing', fontsize = 15)\n",
    "plt.xlabel('Writing Scores', fontsize = 13)\n",
    "plt.ylabel('Reading Scores', fontsize = 13)\n",
    "\n",
    "\n",
    "sns.regplot(students_data['writing score'], students_data['reading score'],\n",
    "            scatter_kws={\"color\": \"blue\"}, line_kws={\"color\": \"red\"} )"
   ]
  },
  {
   "cell_type": "markdown",
   "id": "908d7b26",
   "metadata": {},
   "source": [
    "Just by visualizing the graph, we can detect that the correlation coefficient (r) is much closer to 1 than the two graphs above. What we can get out of this is that students who's strengths are in reading are more comfortable with writing and vice versa compared to math. \n",
    "\n",
    "Some suggestions from this analysis:\n",
    "1. Students who are good at reading or writing should focus more into improving math\n",
    "2. Students who are good at math should focus more into improving reading or writing\n",
    "3. Students who are well rounded in all three subjects should focus more into improving reading or writing (math being a third of the weighted total score)"
   ]
  },
  {
   "cell_type": "markdown",
   "id": "5c70472a",
   "metadata": {},
   "source": [
    "## Conclusion:"
   ]
  },
  {
   "cell_type": "markdown",
   "id": "60de94f2",
   "metadata": {},
   "source": [
    "The given data includes some interesting information about how a student's personal background can influence their academics. Although this data may not contain much information we were still able to get some insights and answer a few possible questions mainly regards to how parental level of education can affect the exam score of an individual. \n",
    "\n",
    "__Questions Answered:__\n",
    "<br>\n",
    "Ultimately in this report we have managed to determine:\n",
    "- Parents with a higher level of educational background links to having their child scoring higher in all three subjects in the exam. \n",
    "- Students who pay standard lunch price scored higher but economic factor does not determine whether students receive standard or free/reduced lunch. \n",
    "- Test preparation courses are great resources for improving exam scores.\n",
    "- There is a stronger positive correlation between the two subjects Reading and Writing as compared to Math, opening some suggestions as to which subject should be more focused upon for each unique individual.\n",
    "\n",
    "__Things to consider:__ Much of the data is unproportional which can affect the accuracy of our results. As an example, less data was inputted for bachelor's and master's degree levels of parental education as compared to the other education levels. As a result, possible answers may have been different assuming the count was evenly inputted.\n",
    "\n",
    "<br>\n",
    "\n",
    "__Other possible questions to consider:__\n",
    "<br>\n",
    "Noticeably, gender or race/ethnicity were not utilized in our data mainly due to obscure labels given for racial groups. Therefore, even more possible questions can be asked from the given data:\n",
    "- Which race/ethnic group produced the best exam results?\n",
    "- Can we learn more about a student's financial background/ parental level of education based off of their race/ethnic groups?\n",
    "- Which gender is more comfortable with Math? What about Reading? Writing?\n",
    "\n",
    "\n",
    "\n"
   ]
  },
  {
   "cell_type": "markdown",
   "id": "ae50e039",
   "metadata": {},
   "source": [
    "__Note:__ This is a fictional dataset taken from Kaggle and in this report strictly utilized for the main purpose of demonstrating data skills using software libraries in python such as pandas and matplotlib. \n",
    "\n"
   ]
  },
  {
   "cell_type": "markdown",
   "id": "3b621603",
   "metadata": {},
   "source": [
    "## Reference:\n",
    "https://www.kaggle.com/spscientist/students-performance-in-exams"
   ]
  }
 ],
 "metadata": {
  "kernelspec": {
   "display_name": "Python 3",
   "language": "python",
   "name": "python3"
  },
  "language_info": {
   "codemirror_mode": {
    "name": "ipython",
    "version": 3
   },
   "file_extension": ".py",
   "mimetype": "text/x-python",
   "name": "python",
   "nbconvert_exporter": "python",
   "pygments_lexer": "ipython3",
   "version": "3.8.8"
  }
 },
 "nbformat": 4,
 "nbformat_minor": 5
}
